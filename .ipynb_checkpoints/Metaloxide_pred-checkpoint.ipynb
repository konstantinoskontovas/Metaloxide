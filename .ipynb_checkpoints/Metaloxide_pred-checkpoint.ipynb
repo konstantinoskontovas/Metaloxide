{
 "cells": [
  {
   "cell_type": "markdown",
   "id": "9012373a-96da-4682-b6de-d5aca4517dc8",
   "metadata": {},
   "source": [
    "# Start !"
   ]
  },
  {
   "cell_type": "markdown",
   "id": "f2673ad9-e01f-4cd5-b1ab-3ffc1720f974",
   "metadata": {},
   "source": [
    "### Importing important libs"
   ]
  },
  {
   "cell_type": "code",
   "execution_count": 1,
   "id": "5c84f540-567f-4361-983a-6a8b96b3921b",
   "metadata": {},
   "outputs": [],
   "source": [
    "import pandas as pd\n",
    "import chardet"
   ]
  },
  {
   "cell_type": "markdown",
   "id": "2f5d2cb6-6210-4929-98bd-1cb7c3113887",
   "metadata": {},
   "source": [
    "### finding the path to load the data"
   ]
  },
  {
   "cell_type": "code",
   "execution_count": 3,
   "id": "e570be95-4991-4d9e-b5f0-f67c8161935c",
   "metadata": {},
   "outputs": [
    {
     "data": {
      "text/plain": [
       "{'encoding': 'Windows-1252', 'confidence': 0.73, 'language': ''}"
      ]
     },
     "execution_count": 3,
     "metadata": {},
     "output_type": "execute_result"
    }
   ],
   "source": [
    "## idenifying the format of the file used\n",
    "path = \"C:/Users/Kosta/OneDrive/Desktop/Data_Science/17_Uni/metaloxidetoxicity.csv\"\n",
    "with open(path, 'rb') as rawdata:\n",
    "    result = chardet.detect(rawdata.read(100000))\n",
    "result\n",
    "\n",
    "# making the file readable\n",
    "test = pd.read_csv(path,encoding='ISO-8859-1')\n",
    "# test.info()\n",
    "\n",
    "new = pd.read_csv(path,encoding='ISO-8859-1')\n",
    "# new"
   ]
  },
  {
   "cell_type": "markdown",
   "id": "3c81207d-d440-4cda-ae6b-72ee4b73301e",
   "metadata": {},
   "source": [
    "## Normalizing the data with min-max"
   ]
  },
  {
   "cell_type": "code",
   "execution_count": 6,
   "id": "0003269e-c113-49b2-9c2f-679ec243b790",
   "metadata": {},
   "outputs": [],
   "source": [
    "from sklearn.preprocessing import MinMaxScaler"
   ]
  },
  {
   "cell_type": "code",
   "execution_count": 7,
   "id": "49708131-354b-41f4-8a8c-52ed4bee03a8",
   "metadata": {},
   "outputs": [],
   "source": [
    "df = new.copy()\n",
    "\n",
    "df_norm_prep = df.copy()\n",
    "df_norm_prep = df_norm_prep.drop(['Metal Oxide'], axis=1)\n",
    "df_norm_prep = df_norm_prep.drop(17)\n",
    "\n",
    "df_norm_prep['Toxicity Index'] = pd.to_numeric(df_norm_prep['Toxicity Index'], downcast=\"float\")\n",
    "# df_norm_prep['Toxicity Index'].mean()\n",
    "\n",
    "# Displaying the data after scaling\n",
    "df_sk_pre = MinMaxScaler().fit_transform(df_norm_prep)\n",
    "pd.DataFrame(df_sk_pre, columns=df_norm_prep.columns, index=df_norm_prep.index)\n",
    "\n",
    "# Displaying the data after scaling normalizing with pearson\n",
    "df_norm = df_norm_prep.corr(method='pearson', min_periods=1)\n",
    "df_norm"
   ]
  },
  {
   "cell_type": "code",
   "execution_count": 66,
   "id": "bd232845-c1f1-4d1d-8538-6b2e1c488d28",
   "metadata": {},
   "outputs": [
    {
     "data": {
      "text/plain": [
       "Standard enthalpy of formation of metal oxide nanocluster ÄHcf    1.000000\n",
       "Toxicity Index                                                    0.375719\n",
       "Polarizability derived from the heat of formation Ahof            0.189282\n",
       "Electronic chemical potential µ                                   0.189065\n",
       "LUMO LUMO                                                         0.148148\n",
       "Name: Standard enthalpy of formation of metal oxide nanocluster ÄHcf, dtype: float64"
      ]
     },
     "execution_count": 66,
     "metadata": {},
     "output_type": "execute_result"
    }
   ],
   "source": [
    "ls_col = df.columns.tolist()\n",
    "# ls_col\n",
    "df_norm['Standard enthalpy of formation of metal oxide nanocluster ÄHcf'].nlargest(n=5)"
   ]
  },
  {
   "cell_type": "code",
   "execution_count": 67,
   "id": "b332ba80-1013-47dc-b321-6cd2cfb6b324",
   "metadata": {},
   "outputs": [
    {
     "data": {
      "text/plain": [
       "Electronic energy EE                       1.000000\n",
       "Total energy TE                            0.941114\n",
       "Parr and Poples absolute hardness Hard    0.628769\n",
       "LUMO LUMO                                  0.543112\n",
       "Valance band EV                            0.543112\n",
       "Name: Electronic energy EE, dtype: float64"
      ]
     },
     "execution_count": 67,
     "metadata": {},
     "output_type": "execute_result"
    }
   ],
   "source": [
    "df_norm['Electronic energy EE'].nlargest(n=5)"
   ]
  },
  {
   "cell_type": "code",
   "execution_count": 68,
   "id": "95d4cb50-47c2-4354-aa01-9374f12c6fab",
   "metadata": {},
   "outputs": [
    {
     "data": {
      "text/plain": [
       "Corecore repulsion energy Core                           1.000000\n",
       "Chemical hardness ç                                       0.598056\n",
       "HOMO-LUMO energy gap Eg                                   0.597727\n",
       "Polarizability derived from the heat of formation Ahof    0.482572\n",
       "HOMO HOMO                                                 0.299329\n",
       "Name: Corecore repulsion energy Core, dtype: float64"
      ]
     },
     "execution_count": 68,
     "metadata": {},
     "output_type": "execute_result"
    }
   ],
   "source": [
    "df_norm['Core\\x96core repulsion energy Core'].nlargest(n=5)"
   ]
  },
  {
   "cell_type": "code",
   "execution_count": 69,
   "id": "41c7f301-ef25-4c4e-85c1-358d30c64a1c",
   "metadata": {},
   "outputs": [
    {
     "data": {
      "text/plain": [
       "Solvent accessible surface SAS                      1.000000\n",
       "Polarizability derived from the dipole moment Ad    0.946669\n",
       "HOMO HOMO                                           0.576049\n",
       "Conduction band EC                                  0.576049\n",
       "HOMO-LUMO energy gap Eg                             0.451586\n",
       "Name: Solvent accessible surface SAS, dtype: float64"
      ]
     },
     "execution_count": 69,
     "metadata": {},
     "output_type": "execute_result"
    }
   ],
   "source": [
    "df_norm['Solvent accessible surface SAS'].nlargest(n=5)"
   ]
  },
  {
   "cell_type": "code",
   "execution_count": 70,
   "id": "27b3dc8e-18d0-4fa8-aa75-c1e06ffd77a5",
   "metadata": {},
   "outputs": [
    {
     "data": {
      "text/plain": [
       "HOMO HOMO                                           1.000000\n",
       "Conduction band EC                                  1.000000\n",
       "HOMO-LUMO energy gap Eg                             0.644423\n",
       "Chemical hardness ç                                 0.643457\n",
       "Polarizability derived from the dipole moment Ad    0.632981\n",
       "Name: HOMO HOMO, dtype: float64"
      ]
     },
     "execution_count": 70,
     "metadata": {},
     "output_type": "execute_result"
    }
   ],
   "source": [
    "df_norm['HOMO HOMO'].nlargest(n=5)"
   ]
  },
  {
   "cell_type": "code",
   "execution_count": 71,
   "id": "93b94b37-6cdd-44a1-bb9c-e33e34b7e3c4",
   "metadata": {},
   "outputs": [
    {
     "data": {
      "text/plain": [
       "LUMO LUMO                                  1.000000\n",
       "Valance band EV                            1.000000\n",
       "Parr and Poples absolute hardness Hard    0.816675\n",
       "Electronic chemical potential µ            0.777115\n",
       "Schuurmann MO shift alpha Shift            0.761627\n",
       "Name: LUMO LUMO, dtype: float64"
      ]
     },
     "execution_count": 71,
     "metadata": {},
     "output_type": "execute_result"
    }
   ],
   "source": [
    "df_norm['LUMO LUMO'].nlargest(n=5)"
   ]
  },
  {
   "cell_type": "code",
   "execution_count": 72,
   "id": "e39ba5fe-f5d0-4dc5-ad85-823826b35086",
   "metadata": {},
   "outputs": [
    {
     "data": {
      "text/plain": [
       "Chemical hardness ç                1.000000\n",
       "HOMO-LUMO energy gap Eg            0.999998\n",
       "HOMO HOMO                          0.643457\n",
       "Conduction band EC                 0.643457\n",
       "Corecore repulsion energy Core    0.598056\n",
       "Name: Chemical hardness ç, dtype: float64"
      ]
     },
     "execution_count": 72,
     "metadata": {},
     "output_type": "execute_result"
    }
   ],
   "source": [
    "df_norm['Chemical hardness ç'].nlargest(n=5)"
   ]
  },
  {
   "cell_type": "code",
   "execution_count": 73,
   "id": "d754892b-3303-4c63-94f6-fe3766550ff8",
   "metadata": {},
   "outputs": [
    {
     "data": {
      "text/plain": [
       "Total softness S                           1.000000\n",
       "Parr and Poples absolute hardness Hard    0.558813\n",
       "Total energy TE                            0.505519\n",
       "Electronic energy EE                       0.490354\n",
       "LUMO LUMO                                  0.398709\n",
       "Name: Total softness S, dtype: float64"
      ]
     },
     "execution_count": 73,
     "metadata": {},
     "output_type": "execute_result"
    }
   ],
   "source": [
    "df_norm['Total softness S'].nlargest(n=5)"
   ]
  },
  {
   "cell_type": "code",
   "execution_count": 74,
   "id": "2b6011b1-8f8e-463c-86cd-727cd85f0ded",
   "metadata": {},
   "outputs": [
    {
     "data": {
      "text/plain": [
       "HOMO-LUMO energy gap Eg            1.000000\n",
       "Chemical hardness ç                0.999998\n",
       "HOMO HOMO                          0.644423\n",
       "Conduction band EC                 0.644423\n",
       "Corecore repulsion energy Core    0.597727\n",
       "Name: HOMO-LUMO energy gap Eg, dtype: float64"
      ]
     },
     "execution_count": 74,
     "metadata": {},
     "output_type": "execute_result"
    }
   ],
   "source": [
    "df_norm['HOMO-LUMO energy gap Eg'].nlargest(n=5)"
   ]
  },
  {
   "cell_type": "code",
   "execution_count": 75,
   "id": "3e22e8d3-5606-4037-93dc-8366b23f83fa",
   "metadata": {},
   "outputs": [
    {
     "data": {
      "text/plain": [
       "Electronic chemical potential µ    1.000000\n",
       "Schuurmann MO shift alpha Shift    0.986914\n",
       "LUMO LUMO                          0.777115\n",
       "Valance band EV                    0.777115\n",
       "HOMO HOMO                          0.572420\n",
       "Name: Electronic chemical potential µ, dtype: float64"
      ]
     },
     "execution_count": 75,
     "metadata": {},
     "output_type": "execute_result"
    }
   ],
   "source": [
    "df_norm['Electronic chemical potential µ'].nlargest(n=5)"
   ]
  },
  {
   "cell_type": "code",
   "execution_count": 76,
   "id": "8a17fbe6-8d30-44bf-bedf-3ea13c0d23c0",
   "metadata": {},
   "outputs": [
    {
     "data": {
      "text/plain": [
       "LUMO LUMO                                  1.000000\n",
       "Valance band EV                            1.000000\n",
       "Parr and Poples absolute hardness Hard    0.816675\n",
       "Electronic chemical potential µ            0.777115\n",
       "Schuurmann MO shift alpha Shift            0.761627\n",
       "Name: Valance band EV, dtype: float64"
      ]
     },
     "execution_count": 76,
     "metadata": {},
     "output_type": "execute_result"
    }
   ],
   "source": [
    "df_norm['Valance band EV'].nlargest(n=5)"
   ]
  },
  {
   "cell_type": "code",
   "execution_count": 77,
   "id": "0d3a228e-f8e2-4e6f-ac31-2b777ac18055",
   "metadata": {},
   "outputs": [
    {
     "data": {
      "text/plain": [
       "HOMO HOMO                                           1.000000\n",
       "Conduction band EC                                  1.000000\n",
       "HOMO-LUMO energy gap Eg                             0.644423\n",
       "Chemical hardness ç                                 0.643457\n",
       "Polarizability derived from the dipole moment Ad    0.632981\n",
       "Name: Conduction band EC, dtype: float64"
      ]
     },
     "execution_count": 77,
     "metadata": {},
     "output_type": "execute_result"
    }
   ],
   "source": [
    "df_norm['Conduction band EC'].nlargest(n=5)"
   ]
  },
  {
   "cell_type": "code",
   "execution_count": 78,
   "id": "7ac2fd82-dfa8-4afc-9ab8-8a7aa33da3ef",
   "metadata": {},
   "outputs": [
    {
     "data": {
      "text/plain": [
       "Mullikens electronegativity ÷c    1.000000\n",
       "Toxicity Index                     0.780153\n",
       "Corecore repulsion energy Core    0.262468\n",
       "Chemical hardness ç                0.259336\n",
       "HOMO-LUMO energy gap Eg            0.258116\n",
       "Name: Mullikens electronegativity ÷c, dtype: float64"
      ]
     },
     "execution_count": 78,
     "metadata": {},
     "output_type": "execute_result"
    }
   ],
   "source": [
    "df_norm['Mulliken\\x92s electronegativity ÷c'].nlargest(n=5)"
   ]
  },
  {
   "cell_type": "code",
   "execution_count": 79,
   "id": "7e18c874-699a-478c-8444-23c593b7b940",
   "metadata": {},
   "outputs": [
    {
     "data": {
      "text/plain": [
       "Parr and Poples absolute hardness Hard    1.000000\n",
       "LUMO LUMO                                  0.816675\n",
       "Valance band EV                            0.816675\n",
       "Electronic energy EE                       0.628769\n",
       "Total energy TE                            0.617583\n",
       "Name: Parr and Poples absolute hardness Hard, dtype: float64"
      ]
     },
     "execution_count": 79,
     "metadata": {},
     "output_type": "execute_result"
    }
   ],
   "source": [
    "df_norm['Parr and Pople\\x92s absolute hardness Hard'].nlargest(n=5)"
   ]
  },
  {
   "cell_type": "code",
   "execution_count": 80,
   "id": "1b1e8f2e-9afc-4c6d-b105-5d1e7daad283",
   "metadata": {},
   "outputs": [
    {
     "data": {
      "text/plain": [
       "Schuurmann MO shift alpha Shift    1.000000\n",
       "Electronic chemical potential µ    0.986914\n",
       "LUMO LUMO                          0.761627\n",
       "Valance band EV                    0.761627\n",
       "HOMO HOMO                          0.571966\n",
       "Name: Schuurmann MO shift alpha Shift, dtype: float64"
      ]
     },
     "execution_count": 80,
     "metadata": {},
     "output_type": "execute_result"
    }
   ],
   "source": [
    "df_norm['Schuurmann MO shift alpha Shift'].nlargest(n=5)"
   ]
  },
  {
   "cell_type": "code",
   "execution_count": 81,
   "id": "c2d93856-250e-4318-bf2d-45bef0cee2b8",
   "metadata": {},
   "outputs": [
    {
     "data": {
      "text/plain": [
       "Polarizability derived from the heat of formation Ahof    1.000000\n",
       "HOMO-LUMO energy gap Eg                                   0.558460\n",
       "Chemical hardness ç                                       0.558331\n",
       "HOMO HOMO                                                 0.500972\n",
       "Conduction band EC                                        0.500972\n",
       "Name: Polarizability derived from the heat of formation Ahof, dtype: float64"
      ]
     },
     "execution_count": 81,
     "metadata": {},
     "output_type": "execute_result"
    }
   ],
   "source": [
    "df_norm['Polarizability derived from the heat of formation Ahof'].nlargest(n=5)"
   ]
  },
  {
   "cell_type": "code",
   "execution_count": 82,
   "id": "e89064bd-6270-46a1-be8f-210e965e63a4",
   "metadata": {},
   "outputs": [
    {
     "data": {
      "text/plain": [
       "Polarizability derived from the dipole moment Ad    1.000000\n",
       "Solvent accessible surface SAS                      0.946669\n",
       "HOMO HOMO                                           0.632981\n",
       "Conduction band EC                                  0.632981\n",
       "HOMO-LUMO energy gap Eg                             0.536758\n",
       "Name: Polarizability derived from the dipole moment Ad, dtype: float64"
      ]
     },
     "execution_count": 82,
     "metadata": {},
     "output_type": "execute_result"
    }
   ],
   "source": [
    "df_norm['Polarizability derived from the dipole moment Ad'].nlargest(n=5)"
   ]
  },
  {
   "cell_type": "markdown",
   "id": "4a478462-f285-43ad-a8ca-b2542879e4b6",
   "metadata": {},
   "source": [
    "#### We identified the columns 'Mulliken\\x92s electronegativity ÷c' and 'Standard enthalpy of formation of metal oxide nanocluster ÄHcf' with highest correlation to the 'Toxicity Index' among the rest."
   ]
  },
  {
   "cell_type": "code",
   "execution_count": 31,
   "id": "cd812e20-e3e2-4380-9a2c-21aff82110be",
   "metadata": {},
   "outputs": [],
   "source": [
    "sel_cols = [\n",
    "    'Mulliken\\x92s electronegativity ÷c','Standard enthalpy of formation of metal oxide nanocluster ÄHcf','Toxicity Index']\n",
    "cat_col=['Metal Oxide']"
   ]
  },
  {
   "cell_type": "code",
   "execution_count": 32,
   "id": "a6e7492d-052d-4009-a581-918bf47745cc",
   "metadata": {},
   "outputs": [],
   "source": [
    "X = df_norm.loc[:,sel_cols]\n",
    "y = df_norm['Toxicity Index']"
   ]
  },
  {
   "cell_type": "code",
   "execution_count": 33,
   "id": "fe2285a0-bb2f-49e6-b6e5-0c76944496b8",
   "metadata": {},
   "outputs": [],
   "source": [
    "# We need to import train and test from sklearn before using it\n",
    "from sklearn.model_selection import train_test_split"
   ]
  },
  {
   "cell_type": "code",
   "execution_count": 34,
   "id": "6bfea52c-bb05-4167-b914-387dc55a2834",
   "metadata": {},
   "outputs": [],
   "source": [
    "X_train, X_test, y_train, y_test = train_test_split(X, y, test_size=0.41, shuffle=False)"
   ]
  },
  {
   "cell_type": "code",
   "execution_count": 35,
   "id": "7a54c783-f728-41e8-b624-784a57ed3486",
   "metadata": {},
   "outputs": [],
   "source": [
    "# Transformming the X_train and X_test into dataframes so we can export afterwards\n",
    "X_train = pd.DataFrame(X_train, columns=X.columns)\n",
    "X_test = pd.DataFrame(X_test, columns=X.columns)"
   ]
  },
  {
   "cell_type": "code",
   "execution_count": 46,
   "id": "38b0f19d-b77d-446c-9e6b-88c2cb4694ef",
   "metadata": {},
   "outputs": [],
   "source": [
    "# X_train"
   ]
  },
  {
   "cell_type": "code",
   "execution_count": 36,
   "id": "88f734c2-5327-47b3-8fb6-ffbe1fb8069b",
   "metadata": {},
   "outputs": [],
   "source": [
    "# Exporting the dataframes as .csv files for later use with the names 'train' and 'test'.\n",
    "X_train.to_csv('train.csv',index=False)\n",
    "X_test.to_csv('test.csv',index=False)"
   ]
  },
  {
   "cell_type": "code",
   "execution_count": 37,
   "id": "b1a78e48-bce2-4874-9a7d-2064f8bf4fc9",
   "metadata": {},
   "outputs": [],
   "source": [
    "new.to_csv('metaloxidetoxicity_fixed.csv',index=False)"
   ]
  },
  {
   "cell_type": "code",
   "execution_count": 47,
   "id": "ac6f6eb9-0925-4d43-8312-7b9a739e36bd",
   "metadata": {},
   "outputs": [],
   "source": [
    "new_missing = new.copy()\n",
    "# new_missing"
   ]
  },
  {
   "cell_type": "code",
   "execution_count": 43,
   "id": "cfce51b1-9cf6-480a-8171-4459b7d79f15",
   "metadata": {},
   "outputs": [],
   "source": [
    "X = df_norm.loc[:,sel_cols]\n",
    "# X"
   ]
  },
  {
   "cell_type": "code",
   "execution_count": 44,
   "id": "2d91c753-156e-46d5-865d-447a415b44b6",
   "metadata": {},
   "outputs": [],
   "source": [
    "y = df_norm['Toxicity Index']\n",
    "# y"
   ]
  }
 ],
 "metadata": {
  "kernelspec": {
   "display_name": "Python 3",
   "language": "python",
   "name": "python3"
  },
  "language_info": {
   "codemirror_mode": {
    "name": "ipython",
    "version": 3
   },
   "file_extension": ".py",
   "mimetype": "text/x-python",
   "name": "python",
   "nbconvert_exporter": "python",
   "pygments_lexer": "ipython3",
   "version": "3.8.8"
  }
 },
 "nbformat": 4,
 "nbformat_minor": 5
}
