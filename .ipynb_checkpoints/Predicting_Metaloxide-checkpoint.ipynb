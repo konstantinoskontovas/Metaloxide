{
 "cells": [
  {
   "cell_type": "code",
   "execution_count": 1,
   "id": "30290cb5-0ccd-4ecb-a16f-1bc180becab2",
   "metadata": {},
   "outputs": [],
   "source": [
    "import pandas as pd\n",
    "from sklearn.preprocessing import MinMaxScaler"
   ]
  },
  {
   "cell_type": "markdown",
   "id": "281f58d5-9209-42e4-b3c2-13be0fc91672",
   "metadata": {},
   "source": [
    "## Normalizing the data with min-max"
   ]
  },
  {
   "cell_type": "code",
   "execution_count": 5,
   "id": "5cd6a710-4fbd-486f-9d32-2fa7bc8b0bea",
   "metadata": {},
   "outputs": [],
   "source": [
    "path = \"C:/Users/Kosta/OneDrive/Desktop/Data_Science/17_Uni/metaloxidetoxicity_fixed.csv\"\n",
    "new = pd.read_csv(path)\n",
    "# new\n",
    "\n",
    "df = new.drop(17).copy()\n",
    "df_nochar = new.drop(17).copy()\n",
    "df_nochar = df_nochar.drop(['Metal Oxide'], axis =1)\n",
    "df_nochar['Toxicity Index'] = pd.to_numeric(df_nochar['Toxicity Index'], downcast=\"float\")\n",
    "\n",
    "df_sk_pre = MinMaxScaler().fit_transform(df_nochar)\n",
    "scaled = pd.DataFrame(df_sk_pre, columns=df_nochar.columns, index=df_nochar.index)"
   ]
  },
  {
   "cell_type": "code",
   "execution_count": 43,
   "id": "7f36dd7a-7737-4309-a221-0dbc3c73a6ba",
   "metadata": {},
   "outputs": [],
   "source": [
    "# train test split\n",
    "from sklearn.model_selection import train_test_split\n",
    "X = df_nochar.drop(columns='Toxicity Index')\n",
    "y = df_nochar['Toxicity Index']\n",
    "X_train, X_test, y_train, y_test = train_test_split(X, y, test_size=0.41, random_state=8)"
   ]
  },
  {
   "cell_type": "code",
   "execution_count": 44,
   "id": "29cbbe89-9d66-45fe-85ac-b891ed29195a",
   "metadata": {},
   "outputs": [],
   "source": [
    "from sklearn.preprocessing import StandardScaler\n",
    "from sklearn.pipeline import make_pipeline\n",
    "from sklearn.neighbors import KNeighborsRegressor"
   ]
  },
  {
   "cell_type": "code",
   "execution_count": 45,
   "id": "112c3fc1-5cdf-4a50-b65c-fb65cf3bb6a4",
   "metadata": {},
   "outputs": [],
   "source": [
    "pipe = make_pipeline(\n",
    "#         StandardScaler(),\n",
    "        KNeighborsRegressor())"
   ]
  },
  {
   "cell_type": "code",
   "execution_count": 46,
   "id": "d9bd43c8-8f97-44ac-ba0b-a3e513f3c986",
   "metadata": {},
   "outputs": [],
   "source": [
    "# parameter grid for pipeline\n",
    "pipe_params = {\n",
    "    \n",
    "#     'standardscaler__with_mean':[True, False],\n",
    "    'kneighborsregressor__n_neighbors': list(range(1, 5)),\n",
    "    'kneighborsregressor__weights': ['uniform', 'distance'],\n",
    "    'kneighborsregressor__p': [1, 2],\n",
    "    'kneighborsregressor__algorithm': ['ball_tree', 'kd_tree', 'brute']}"
   ]
  },
  {
   "cell_type": "code",
   "execution_count": 47,
   "id": "34df3fbf-c4a0-4f2b-ba94-7a55f63734f6",
   "metadata": {
    "tags": []
   },
   "outputs": [
    {
     "data": {
      "text/plain": [
       "GridSearchCV(cv=5,\n",
       "             estimator=Pipeline(steps=[('kneighborsregressor',\n",
       "                                        KNeighborsRegressor())]),\n",
       "             param_grid={'kneighborsregressor__algorithm': ['ball_tree',\n",
       "                                                            'kd_tree',\n",
       "                                                            'brute'],\n",
       "                         'kneighborsregressor__n_neighbors': [1, 2, 3, 4],\n",
       "                         'kneighborsregressor__p': [1, 2],\n",
       "                         'kneighborsregressor__weights': ['uniform',\n",
       "                                                          'distance']})"
      ]
     },
     "execution_count": 47,
     "metadata": {},
     "output_type": "execute_result"
    }
   ],
   "source": [
    "# grid search\n",
    "from sklearn.model_selection import GridSearchCV\n",
    "trained_pipe = GridSearchCV(pipe,\n",
    "                            pipe_params, \n",
    "                            cv = 5)\n",
    "trained_pipe.fit(X_train, y_train)"
   ]
  },
  {
   "cell_type": "code",
   "execution_count": 16,
   "id": "5c4cca61-ae14-4595-b2a5-f1e90259b350",
   "metadata": {},
   "outputs": [
    {
     "name": "stdout",
     "output_type": "stream",
     "text": [
      "-0.00387412595438974\n"
     ]
    }
   ],
   "source": [
    "from sklearn.metrics import r2_score\n",
    "y_pred = trained_pipe.predict(X_test)\n",
    "r2 = r2_score(y_test, y_pred)\n",
    "print(r2)"
   ]
  },
  {
   "cell_type": "code",
   "execution_count": 17,
   "id": "3f979da6-9be6-4fb0-973a-5a51dce23f8d",
   "metadata": {},
   "outputs": [],
   "source": [
    "# store the trained pipeline\n",
    "import pickle\n",
    "pickle.dump(trained_pipe, \n",
    "            open(file= \"C:/Users/Kosta/OneDrive/Desktop/Data_Science/17_Uni/trained_pipe_knn.sav\", \n",
    "                 mode='wb'))"
   ]
  },
  {
   "cell_type": "code",
   "execution_count": 20,
   "id": "78dc1947-e578-4b52-9d59-3896312d5c81",
   "metadata": {},
   "outputs": [
    {
     "data": {
      "text/plain": [
       "array([2.3], dtype=float32)"
      ]
     },
     "execution_count": 20,
     "metadata": {},
     "output_type": "execute_result"
    }
   ],
   "source": [
    "# load model\n",
    "import pickle\n",
    "loaded_model = pickle.load(open('trained_pipe_knn.sav', 'rb'))\n",
    " \n",
    "import pandas as pd\n",
    "new_item = pd.DataFrame({\n",
    "    'Standard enthalpy of formation of metal oxide nanocluster ÄHcf':[-157.7],\n",
    "    'Total energy TE':[-2486.1],\n",
    "    'Electronic energy EE':[-8602.4],\n",
    "    'Corecore repulsion energy Core':[6116.2],\n",
    "    'Solvent accessible surface SAS':[232.92],\n",
    "    'HOMO HOMO':[-10.91],\n",
    "    'LUMO LUMO':[-2],\n",
    "    'Chemical hardness ç':[-4.45],\n",
    "    'Total softness S':[-0.11],\n",
    "    'HOMO-LUMO energy gap Eg':[-8.9],\n",
    "    'Electronic chemical potential µ':[-6.45],\n",
    "    'Valance band EV':[-2],\n",
    "    'Conduction band EC':[-10.91], \n",
    "    'Mullikens electronegativity ÷c':[6.45], \n",
    "    'Parr and Poples absolute hardness Hard':[4.45],\n",
    "    'Schuurmann MO shift alpha Shift':[-6.45],\n",
    "    'Polarizability derived from the heat of formation Ahof':[4.95],\n",
    "    'Polarizability derived from the dipole moment Ad':[4.95]\n",
    "    \n",
    "\n",
    "#     'BedroomAbvGr':[5], \n",
    "#     'GarageCars':[4]\n",
    "})\n",
    " \n",
    "# prediction\n",
    "loaded_model.predict(new_item)"
   ]
  },
  {
   "cell_type": "markdown",
   "id": "11915c11-57ea-4cc2-810f-fe1b3eb46cc7",
   "metadata": {},
   "source": [
    "# REAPEAT ! with 2 values"
   ]
  },
  {
   "cell_type": "code",
   "execution_count": 48,
   "id": "3b6739a9-f238-4458-a94f-115de758d45e",
   "metadata": {},
   "outputs": [
    {
     "name": "stdout",
     "output_type": "stream",
     "text": [
      "-0.7739340986248617\n"
     ]
    },
    {
     "data": {
      "text/plain": [
       "array([2.405], dtype=float32)"
      ]
     },
     "execution_count": 48,
     "metadata": {},
     "output_type": "execute_result"
    }
   ],
   "source": [
    "from sklearn.model_selection import train_test_split\n",
    "\n",
    "# path\n",
    "path = \"C:/Users/Kosta/OneDrive/Desktop/Data_Science/17_Uni/metaloxidetoxicity_fixed.csv\"\n",
    "new = pd.read_csv(path)\n",
    "\n",
    "# delete last element - Toxicity Index unknown ? \n",
    "df = new.drop(17).copy()\n",
    "\n",
    "# save data using their index - names are removed.\n",
    "df_nochar = new.drop(17).copy()\n",
    "df_nochar = df_nochar.drop(['Metal Oxide'], axis =1)\n",
    "\n",
    "# Transform 'Toxicity Index'  object to numeric-float\n",
    "df_nochar['Toxicity Index'] = pd.to_numeric(df_nochar['Toxicity Index'], downcast=\"float\")\n",
    "\n",
    "\n",
    "df_sk_pre = MinMaxScaler().fit_transform(df_nochar)\n",
    "scaled = pd.DataFrame(df_sk_pre, columns=df_nochar.columns, index=df_nochar.index)\n",
    "\n",
    "df_needed = df_nochar[['Standard enthalpy of formation of metal oxide nanocluster ÄHcf','Mullikens electronegativity ÷c','Toxicity Index']]\n",
    "df_sk_pre = MinMaxScaler().fit_transform(df_needed)\n",
    "scaled = pd.DataFrame(df_sk_pre, columns=df_needed.columns, index=df_needed.index)\n",
    "\n",
    "# train test split\n",
    "from sklearn.model_selection import train_test_split\n",
    "X = df_needed.drop(columns='Toxicity Index')\n",
    "y = df_needed['Toxicity Index']\n",
    "\n",
    "# Με αυτόν τον τρόπο έχουμε τα πρώτα 10 δείγματα για εκαπίδευση και τα υππόλοιπα 7 για τεστ \n",
    "X_train, X_test, y_train, y_test = train_test_split(X, y, test_size=0.41, shuffle=False)\n",
    "\n",
    "pipe = make_pipeline(\n",
    "        KNeighborsRegressor())\n",
    "\n",
    "# parameter grid for pipeline\n",
    "pipe_params = {\n",
    "        'kneighborsregressor__n_neighbors': list(range(1, 3)),\n",
    "    'kneighborsregressor__weights': ['uniform', 'distance'],\n",
    "    'kneighborsregressor__p': [1, 2],\n",
    "    'kneighborsregressor__algorithm': ['ball_tree', 'kd_tree', 'brute']}\n",
    "\n",
    "# grid search\n",
    "from sklearn.model_selection import GridSearchCV\n",
    "trained_pipe = GridSearchCV(pipe,\n",
    "                            pipe_params, \n",
    "                            cv = 5)\n",
    "trained_pipe.fit(X_train, y_train)\n",
    "\n",
    "from sklearn.metrics import r2_score\n",
    "y_pred = trained_pipe.predict(X_test)\n",
    "r2 = r2_score(y_test, y_pred)\n",
    "print(r2)\n",
    "\n",
    "# store the trained pipeline\n",
    "import pickle\n",
    "pickle.dump(trained_pipe, \n",
    "            open(file= \"C:/Users/Kosta/OneDrive/Desktop/Data_Science/17_Uni/trained_pipe_knn.sav\", \n",
    "                 mode='wb'))\n",
    "\n",
    "# load model\n",
    "import pickle\n",
    "loaded_model = pickle.load(open('trained_pipe_knn.sav', 'rb'))\n",
    " \n",
    "# new house with fake data\n",
    "import pandas as pd\n",
    "new_item = pd.DataFrame({\n",
    "    'Standard enthalpy of formation of metal oxide nanocluster ÄHcf':[-157.7],# ==================================================\n",
    "    'Mullikens electronegativity ÷c':[6.45] #====================================================================================\n",
    "})\n",
    "# prediction\n",
    "loaded_model.predict(new_item)\n",
    "\n",
    "# load model\n",
    "import pickle\n",
    "loaded_model = pickle.load(open('trained_pipe_knn.sav', 'rb'))\n",
    " \n",
    "import pandas as pd\n",
    "new_item = pd.DataFrame({\n",
    "    'Standard enthalpy of formation of metal oxide nanocluster ÄHcf':[-157.7],# ==================================================\n",
    "    'Mullikens electronegativity ÷c':[6.45] #====================================================================================\n",
    "})\n",
    "# prediction\n",
    "loaded_model.predict(new_item)"
   ]
  },
  {
   "cell_type": "markdown",
   "id": "9ad4438f-6102-4cbe-aec7-876a962a472e",
   "metadata": {},
   "source": [
    "# Perceptron Prediction"
   ]
  },
  {
   "cell_type": "code",
   "execution_count": 32,
   "id": "0d3fd0ea-70b4-47c9-b4fa-ebb20a5963b4",
   "metadata": {},
   "outputs": [],
   "source": [
    "# importing libraries of interest\n",
    "from tensorflow.keras import Sequential\n",
    "from tensorflow.keras.layers import Dense, Dropout\n",
    "from tensorflow.keras.callbacks import EarlyStopping"
   ]
  },
  {
   "cell_type": "code",
   "execution_count": 35,
   "id": "c240e9f6-1ab3-499b-948e-bd0936dd2be1",
   "metadata": {},
   "outputs": [],
   "source": [
    "model = Sequential()\n",
    "X_train, X_test, y_train, y_test = train_test_split(X, y, test_size=0.41, shuffle=False)\n",
    "\n",
    "mn = MinMaxScaler()\n",
    "X_train_scaled = pd.DataFrame(mn.fit_transform(X_train), columns = X_train.columns)\n",
    "X_test_scaled = pd.DataFrame(mn.fit_transform(X_test), columns = X_test.columns)"
   ]
  },
  {
   "cell_type": "code",
   "execution_count": 37,
   "id": "439bf65c-8697-40ca-a675-2216844efe5e",
   "metadata": {},
   "outputs": [
    {
     "data": {
      "text/plain": [
       "array([[3.3817651]], dtype=float32)"
      ]
     },
     "execution_count": 37,
     "metadata": {},
     "output_type": "execute_result"
    }
   ],
   "source": [
    "model.add(Dense(16, activation = 'relu', kernel_initializer = 'he_normal', input_shape = (X_train_scaled.shape[1],)))\n",
    "model.add(Dense(8, activation = 'relu', kernel_initializer = 'he_normal'))\n",
    "model.add(Dense(1))\n",
    "model.compile(optimizer = 'adam', loss = 'mse', metrics = 'mae')\n",
    "model.fit(X_train, y_train, epochs=2000, verbose=0)\n",
    "model.predict(new_item)"
   ]
  },
  {
   "cell_type": "code",
   "execution_count": 38,
   "id": "b8bdf7fa-833d-4de9-8238-e37534edce85",
   "metadata": {},
   "outputs": [],
   "source": [
    "model7 = Sequential()\n",
    "model7.add(Dense(32, activation = 'relu', kernel_initializer = 'he_normal', input_shape = (X_train_scaled.shape[1],)))\n",
    "model7.add(Dense(16, activation = 'relu', kernel_initializer = 'he_normal'))\n",
    "model7.add(Dropout(0.3))\n",
    "model7.add(Dense(8, activation = 'relu', kernel_initializer = 'he_normal'))\n",
    "model7.add(Dropout(0.3))\n",
    "model7.add(Dense(8, activation = 'relu', kernel_initializer = 'he_normal'))\n",
    "model7.add(Dropout(0.3))\n",
    "model7.add(Dense(1))"
   ]
  },
  {
   "cell_type": "code",
   "execution_count": 39,
   "id": "6bc934d8-1555-40ee-8eea-76f492e8a481",
   "metadata": {},
   "outputs": [
    {
     "data": {
      "text/plain": [
       "array([[0.23348868]], dtype=float32)"
      ]
     },
     "execution_count": 39,
     "metadata": {},
     "output_type": "execute_result"
    }
   ],
   "source": [
    "model7.compile(optimizer = 'adam', loss = 'mse', metrics = 'mae')\n",
    "model7.fit(X_train, y_train, epochs=2000, verbose=0)\n",
    "model7.predict(new_item)"
   ]
  },
  {
   "cell_type": "code",
   "execution_count": 40,
   "id": "2834d88f-b405-49bc-aeda-bc7c2158963d",
   "metadata": {},
   "outputs": [],
   "source": [
    "model8 = Sequential()\n",
    "model8.add(Dense(32, activation = 'relu', kernel_initializer = 'he_normal', input_shape = (X_train_scaled.shape[1],)))\n",
    "model8.add(Dense(16, activation = 'relu', kernel_initializer = 'he_normal', kernel_regularizer = 'l1'))\n",
    "model8.add(Dense(8, activation = 'relu', kernel_initializer = 'he_normal', kernel_regularizer = 'l1'))\n",
    "model8.add(Dense(8, activation = 'relu', kernel_initializer = 'he_normal', kernel_regularizer = 'l1'))\n",
    "model8.add(Dense(1))"
   ]
  },
  {
   "cell_type": "code",
   "execution_count": 41,
   "id": "86ca5be2-d8ed-43f7-9c61-4cfffdb9784e",
   "metadata": {},
   "outputs": [
    {
     "data": {
      "text/plain": [
       "array([[3.0831985]], dtype=float32)"
      ]
     },
     "execution_count": 41,
     "metadata": {},
     "output_type": "execute_result"
    }
   ],
   "source": [
    "model8.compile(optimizer = 'adam', loss = 'mse', metrics = 'mae')\n",
    "model8.fit(X_train, y_train, epochs=2000, verbose=0)\n",
    "model8.predict(new_item)"
   ]
  },
  {
   "cell_type": "code",
   "execution_count": 50,
   "id": "1328008f-9124-4352-b83c-61f8b777253c",
   "metadata": {},
   "outputs": [
    {
     "data": {
      "text/html": [
       "<div>\n",
       "<style scoped>\n",
       "    .dataframe tbody tr th:only-of-type {\n",
       "        vertical-align: middle;\n",
       "    }\n",
       "\n",
       "    .dataframe tbody tr th {\n",
       "        vertical-align: top;\n",
       "    }\n",
       "\n",
       "    .dataframe thead th {\n",
       "        text-align: right;\n",
       "    }\n",
       "</style>\n",
       "<table border=\"1\" class=\"dataframe\">\n",
       "  <thead>\n",
       "    <tr style=\"text-align: right;\">\n",
       "      <th></th>\n",
       "      <th>Standard enthalpy of formation of metal oxide nanocluster ÄHcf</th>\n",
       "      <th>Mullikens electronegativity ÷c</th>\n",
       "      <th>Toxicity Index</th>\n",
       "    </tr>\n",
       "  </thead>\n",
       "  <tbody>\n",
       "    <tr>\n",
       "      <th>0</th>\n",
       "      <td>-185.472727</td>\n",
       "      <td>4.919091</td>\n",
       "      <td>2.513636</td>\n",
       "    </tr>\n",
       "    <tr>\n",
       "      <th>1</th>\n",
       "      <td>-808.433333</td>\n",
       "      <td>5.213333</td>\n",
       "      <td>2.190000</td>\n",
       "    </tr>\n",
       "  </tbody>\n",
       "</table>\n",
       "</div>"
      ],
      "text/plain": [
       "   Standard enthalpy of formation of metal oxide nanocluster ÄHcf  \\\n",
       "0                                        -185.472727                \n",
       "1                                        -808.433333                \n",
       "\n",
       "   Mullikens electronegativity ÷c  Toxicity Index  \n",
       "0                         4.919091        2.513636  \n",
       "1                         5.213333        2.190000  "
      ]
     },
     "execution_count": 50,
     "metadata": {},
     "output_type": "execute_result"
    }
   ],
   "source": [
    "from sklearn.cluster import KMeans\n",
    "\n",
    "kmeans = KMeans(n_clusters=2)\n",
    "kmeans.fit(df_needed)\n",
    "kmeans.cluster_centers_\n",
    "cl_pos = pd.DataFrame(kmeans.cluster_centers_)\n",
    "cl_pos.columns = ['Standard enthalpy of formation of metal oxide nanocluster ÄHcf','Mullikens electronegativity ÷c','Toxicity Index']\n",
    "cl_pos"
   ]
  },
  {
   "cell_type": "code",
   "execution_count": 61,
   "id": "47d25354-5691-4180-9160-8a146803f74c",
   "metadata": {},
   "outputs": [
    {
     "name": "stderr",
     "output_type": "stream",
     "text": [
      "C:\\ProgramData\\Anaconda3\\lib\\site-packages\\matplotlib\\backends\\backend_agg.py:238: RuntimeWarning: Glyph 146 missing from current font.\n",
      "  font.set_text(s, 0.0, flags=flags)\n",
      "C:\\ProgramData\\Anaconda3\\lib\\site-packages\\matplotlib\\backends\\backend_agg.py:201: RuntimeWarning: Glyph 146 missing from current font.\n",
      "  font.set_text(s, 0, flags=flags)\n"
     ]
    },
    {
     "data": {
      "image/png": "[encoded data removed]",
      "text/plain": [
       "<Figure size 360x288 with 1 Axes>"
      ]
     },
     "metadata": {
      "needs_background": "light"
     },
     "output_type": "display_data"
    }
   ],
   "source": [
    "import matplotlib.pyplot as plt\n",
    "import seaborn as sns\n",
    "fig, ax = plt.subplots(figsize=(5, 4))\n",
    "plot_data = pd.DataFrame(df_needed)\n",
    "plot_data.columns = ['Standard enthalpy of formation of metal oxide nanocluster ÄHcf','Mullikens electronegativity ÷c','Toxicity Index']\n",
    "\n",
    "plt.title('Comparing our centroids and our dataset')\n",
    "plt.xlabel('Standard enthalpy of formation of metal oxide nanocluster ÄHcf')\n",
    "plt.ylabel('Mullikens electronegativity ÷c')\n",
    "sns.scatterplot(data=plot_data, x='Standard enthalpy of formation of metal oxide nanocluster ÄHcf', y='Mullikens electronegativity ÷c')\n",
    "sns.scatterplot(data=cl_pos, x='Standard enthalpy of formation of metal oxide nanocluster ÄHcf', y='Mullikens electronegativity ÷c', color='red', s=250)\n",
    "plt.show()"
   ]
  }
 ],
 "metadata": {
  "kernelspec": {
   "display_name": "Python 3",
   "language": "python",
   "name": "python3"
  },
  "language_info": {
   "codemirror_mode": {
    "name": "ipython",
    "version": 3
   },
   "file_extension": ".py",
   "mimetype": "text/x-python",
   "name": "python",
   "nbconvert_exporter": "python",
   "pygments_lexer": "ipython3",
   "version": "3.8.8"
  }
 },
 "nbformat": 4,
 "nbformat_minor": 5
}
